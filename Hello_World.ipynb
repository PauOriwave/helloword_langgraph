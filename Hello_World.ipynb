{
 "cells": [
  {
   "cell_type": "code",
   "execution_count": null,
   "id": "617bfcbb",
   "metadata": {},
   "outputs": [],
   "source": [
    "from typing import Dict, TypedDict\n",
    "from langgraph.graph import StateGraph # Framework que ayuada a diseñar y manejar el flujo de tareas de la aplicación usando una graphstructure."
   ]
  },
  {
   "cell_type": "code",
   "execution_count": null,
   "id": "ad477f4f",
   "metadata": {},
   "outputs": [],
   "source": [
    "#Crear un AgentState \n",
    "class AgentState(TypedDict):\n",
    "    message:str\n",
    "\n",
    "def greeting_node(state: AgentState) -> AgentState\n",
    "    \"\"\"nodo simple que añade un mensaje de agradecimiento al estado  \"\"\"\n",
    "\n",
    "    state['message'] = \"Hey\" + state[\"message\"] + \", how is your day going?\"\n",
    "\n",
    "    return state"
   ]
  },
  {
   "cell_type": "code",
   "execution_count": null,
   "id": "526e321d",
   "metadata": {},
   "outputs": [],
   "source": []
  }
 ],
 "metadata": {
  "kernelspec": {
   "display_name": ".venv",
   "language": "python",
   "name": "python3"
  },
  "language_info": {
   "name": "python",
   "version": "3.13.9"
  }
 },
 "nbformat": 4,
 "nbformat_minor": 5
}
