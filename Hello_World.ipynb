{
 "cells": [
  {
   "cell_type": "code",
   "execution_count": null,
   "id": "617bfcbb",
   "metadata": {
    "vscode": {
     "languageId": "plaintext"
    }
   },
   "outputs": [],
   "source": [
    "from typing import Dict, TypeDict\n",
    "from langgraph.graph import StateGraph"
   ]
  }
 ],
 "metadata": {
  "language_info": {
   "name": "python"
  }
 },
 "nbformat": 4,
 "nbformat_minor": 5
}
