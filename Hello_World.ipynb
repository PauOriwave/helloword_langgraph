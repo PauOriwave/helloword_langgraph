{
 "cells": [
  {
   "cell_type": "code",
   "execution_count": 18,
   "id": "617bfcbb",
   "metadata": {},
   "outputs": [],
   "source": [
    "from typing import Dict, TypedDict\n",
    "from langgraph.graph import StateGraph # Framework que ayuada a diseñar y manejar el flujo de tareas de la aplicación usando una graphstructure."
   ]
  },
  {
   "cell_type": "code",
   "execution_count": 19,
   "id": "ad477f4f",
   "metadata": {},
   "outputs": [],
   "source": [
    "#Crear un AgentState \n",
    "class AgentState(TypedDict): # esquema\n",
    "    message:str\n",
    "\n",
    "def greeting_node(state: AgentState) -> AgentState:\n",
    "    \"\"\"nodo simple que añade un mensaje de agradecimiento al estado  \"\"\"\n",
    "\n",
    "    state['message'] = \"Hey \" + state[\"message\"] + \", how is your day going?\"\n",
    "\n",
    "    return state"
   ]
  },
  {
   "cell_type": "code",
   "execution_count": 20,
   "id": "c647c292",
   "metadata": {},
   "outputs": [],
   "source": [
    "graph = StateGraph(AgentState)\n",
    "\n",
    "graph.add_node(\"greeter\", greeting_node)\n",
    "\n",
    "graph.set_entry_point(\"greeter\")\n",
    "graph.set_finish_point(\"greeter\")\n",
    "\n",
    "app = graph.compile()"
   ]
  },
  {
   "cell_type": "code",
   "execution_count": 21,
   "id": "e461c3be",
   "metadata": {},
   "outputs": [],
   "source": [
    "result = app.invoke({\"message\" : \"bob\"})"
   ]
  },
  {
   "cell_type": "code",
   "execution_count": 22,
   "id": "2b47cc0c",
   "metadata": {},
   "outputs": [
    {
     "data": {
      "text/plain": [
       "'Hey bob, how is your day going?'"
      ]
     },
     "execution_count": 22,
     "metadata": {},
     "output_type": "execute_result"
    }
   ],
   "source": [
    "result[\"message\"]"
   ]
  }
 ],
 "metadata": {
  "kernelspec": {
   "display_name": ".venv",
   "language": "python",
   "name": "python3"
  },
  "language_info": {
   "codemirror_mode": {
    "name": "ipython",
    "version": 3
   },
   "file_extension": ".py",
   "mimetype": "text/x-python",
   "name": "python",
   "nbconvert_exporter": "python",
   "pygments_lexer": "ipython3",
   "version": "3.13.9"
  }
 },
 "nbformat": 4,
 "nbformat_minor": 5
}
